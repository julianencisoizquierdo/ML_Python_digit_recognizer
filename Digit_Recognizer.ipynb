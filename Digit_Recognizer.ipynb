{
  "nbformat": 4,
  "nbformat_minor": 0,
  "metadata": {
    "colab": {
      "provenance": [],
      "mount_file_id": "1qNcgnjmBLrx8Ayf8YqTxeVwgBUUw5u1N",
      "authorship_tag": "ABX9TyNjvbprYxP2eoAVH9BEe1p3",
      "include_colab_link": true
    },
    "kernelspec": {
      "name": "python3",
      "display_name": "Python 3"
    },
    "language_info": {
      "name": "python"
    }
  },
  "cells": [
    {
      "cell_type": "markdown",
      "metadata": {
        "id": "view-in-github",
        "colab_type": "text"
      },
      "source": [
        "<a href=\"https://colab.research.google.com/github/julianencisoizquierdo/ML_Python_digit_recognizer/blob/main/Digit_Recognizer.ipynb\" target=\"_parent\"><img src=\"https://colab.research.google.com/assets/colab-badge.svg\" alt=\"Open In Colab\"/></a>"
      ]
    },
    {
      "cell_type": "code",
      "execution_count": 13,
      "metadata": {
        "colab": {
          "base_uri": "https://localhost:8080/"
        },
        "id": "4DbczmO31H51",
        "outputId": "5c330cd4-b3ec-4e2a-f369-3804872f9405"
      },
      "outputs": [
        {
          "output_type": "stream",
          "name": "stdout",
          "text": [
            "We have 60000 images in the training set and 10000 images in the test set.\n",
            "Train Data sample\n",
            "   label  pixel0  pixel1  pixel2  pixel3  pixel4  pixel5  pixel6  pixel7  \\\n",
            "0      1       0       0       0       0       0       0       0       0   \n",
            "1      0       0       0       0       0       0       0       0       0   \n",
            "2      1       0       0       0       0       0       0       0       0   \n",
            "3      4       0       0       0       0       0       0       0       0   \n",
            "4      0       0       0       0       0       0       0       0       0   \n",
            "\n",
            "   pixel8  ...  pixel774  pixel775  pixel776  pixel777  pixel778  pixel779  \\\n",
            "0       0  ...       0.0       0.0       0.0       0.0       0.0       0.0   \n",
            "1       0  ...       0.0       0.0       0.0       0.0       0.0       0.0   \n",
            "2       0  ...       0.0       0.0       0.0       0.0       0.0       0.0   \n",
            "3       0  ...       0.0       0.0       0.0       0.0       0.0       0.0   \n",
            "4       0  ...       0.0       0.0       0.0       0.0       0.0       0.0   \n",
            "\n",
            "   pixel780  pixel781  pixel782  pixel783  \n",
            "0       0.0       0.0       0.0       0.0  \n",
            "1       0.0       0.0       0.0       0.0  \n",
            "2       0.0       0.0       0.0       0.0  \n",
            "3       0.0       0.0       0.0       0.0  \n",
            "4       0.0       0.0       0.0       0.0  \n",
            "\n",
            "[5 rows x 785 columns]\n",
            "Shape of the train data file (20653, 785)\n",
            "Shape of the train data file (19532, 784)\n",
            "Shape of the train data (20653, 785)\n",
            "Shape of the train data (19532, 784)\n"
          ]
        }
      ],
      "source": [
        "import pandas as pd\n",
        "import numpy as np\n",
        "from tensorflow.keras.datasets import mnist\n",
        "\n",
        "# https://medium.com/artificialis/get-started-with-computer-vision-by-building-a-digit-recognition-model-with-tensorflow-b2216823b90a\n",
        "\n",
        "df_train = pd.read_csv(\"/content/drive/MyDrive/Colab Notebooks/Kaggle Projects/train_dr.csv\")\n",
        "df_test = pd.read_csv(\"/content/drive/MyDrive/Colab Notebooks/Kaggle Projects/test_dr.csv\")\n",
        "\n",
        "(X_train, y_train), (X_test, y_test) = mnist.load_data()\n",
        "\n",
        "# The load_data() method of the mnist module returns the train and test sets in form of nested tuples, which we have destructured\n",
        "# in the above lines into X_train, X_test, y_train, and y_test.\n",
        "\n",
        "print(f\"We have {len(X_train)} images in the training set and {len(X_test)} images in the test set.\")\n",
        "\n",
        "print(\"Train Data sample\")\n",
        "print(df_train.head())\n",
        "print(\"Shape of the train data file {}\".format(df_train.shape))\n",
        "print(\"Shape of the train data file {}\".format(df_test.shape))\n",
        "\n",
        "df_train = np.array(df_train, dtype=\"float32\")\n",
        "test_data = np.array(df_test, dtype=\"float32\")\n",
        "print(\"Shape of the train data {}\".format(df_train.shape))\n",
        "print(\"Shape of the train data {}\".format(df_test.shape))"
      ]
    },
    {
      "cell_type": "code",
      "source": [
        "import matplotlib.pyplot as plt\n",
        "import random\n",
        "\n",
        "plt.imshow(X_train[0])\n",
        "\n",
        "plt.figure(figsize=(3, 3))\n",
        "plt.imshow(X_train[0], cmap=\"gray\")\n",
        "plt.title(y_train[0])\n",
        "plt.axis(False);\n",
        "\n",
        "\n",
        "random_image = random.randint(0,  len(X_train))\n",
        "\n",
        "plt.figure(figsize=(3, 3))\n",
        "plt.imshow(X_train[random_image], cmap=\"gray\")\n",
        "\n",
        "plt.title(y_train[random_image])\n",
        "plt.axis(False);\n",
        "\n",
        "\n",
        "X_train = X_train.reshape(X_train.shape + (1,))\n",
        "X_test = X_test.reshape(X_test.shape + (1, ))\n",
        "\n",
        "\n",
        "X_train = X_train / 255.\n",
        "X_test = X_test / 255.\n",
        "\n",
        "\n",
        "X_train = X_train.astype(np.float32)\n",
        "X_test = X_test.astype(np.float32)\n",
        "\n",
        "\n",
        "\n",
        "X_train.shape"
      ],
      "metadata": {
        "colab": {
          "base_uri": "https://localhost:8080/",
          "height": 994
        },
        "id": "adobhBW9C-ue",
        "outputId": "149e786d-234a-4ed1-d576-5d5e45146e16"
      },
      "execution_count": 18,
      "outputs": [
        {
          "output_type": "execute_result",
          "data": {
            "text/plain": [
              "(60000, 28, 28, 1)"
            ]
          },
          "metadata": {},
          "execution_count": 18
        },
        {
          "output_type": "display_data",
          "data": {
            "text/plain": [
              "<Figure size 640x480 with 1 Axes>"
            ],
            "image/png": "[encoded data removed]"
          },
          "metadata": {}
        },
        {
          "output_type": "display_data",
          "data": {
            "text/plain": [
              "<Figure size 300x300 with 1 Axes>"
            ],
            "image/png": "[encoded data removed]"
          },
          "metadata": {}
        },
        {
          "output_type": "display_data",
          "data": {
            "text/plain": [
              "<Figure size 300x300 with 1 Axes>"
            ],
            "image/png": "[encoded data removed]"
          },
          "metadata": {}
        }
      ]
    },
    {
      "cell_type": "code",
      "source": [
        "import tensorflow as tf\n",
        "from tensorflow.keras import layers\n",
        "\n",
        "model = tf.keras.Sequential([\n",
        "\tlayers.Conv2D(filters=10,\n",
        "\t\t\t\tkernel_size=3,\n",
        "\t\t\t\tactivation=\"relu\",\n",
        "\t\t\t\tinput_shape=(28,  28,  1)),\n",
        "\tlayers.Conv2D(10,  3, activation=\"relu\"),\n",
        "\tlayers.MaxPool2D(),\n",
        "\tlayers.Conv2D(10,  3, activation=\"relu\"),\n",
        "\tlayers.Conv2D(10,  3, activation=\"relu\"),\n",
        "\tlayers.MaxPool2D(),\n",
        "\tlayers.Flatten(),\n",
        "\tlayers.Dense(10, activation=\"softmax\")\n",
        "])"
      ],
      "metadata": {
        "id": "k_x57Y3zAHn7"
      },
      "execution_count": 19,
      "outputs": []
    },
    {
      "cell_type": "code",
      "source": [
        "# https://poloclub.github.io/cnn-explainer/\n",
        "\n",
        "model.compile(loss=\"sparse_categorical_crossentropy\",\n",
        "\t\t\toptimizer=tf.keras.optimizers.Adam(),\n",
        "\t\t\tmetrics=[\"accuracy\"])"
      ],
      "metadata": {
        "id": "oq0Goxh8HCTd"
      },
      "execution_count": 20,
      "outputs": []
    },
    {
      "cell_type": "code",
      "source": [
        "# https://towardsdatascience.com/handwritten-digit-mnist-pytorch-977b5338e627\n",
        "\n",
        "\n",
        "input_size = 784\n",
        "hidden_sizes = [128, 64]\n",
        "output_size = 10\n",
        "\n",
        "model = nn.Sequential(nn.Linear(input_size, hidden_sizes[0]),\n",
        "                      nn.ReLU(),\n",
        "                      nn.Linear(hidden_sizes[0], hidden_sizes[1]),\n",
        "                      nn.ReLU(),\n",
        "                      nn.Linear(hidden_sizes[1], output_size),\n",
        "                      nn.LogSoftmax(dim=1))\n",
        "print(model)\n",
        "\n",
        "\n"
      ],
      "metadata": {
        "id": "p4uyl94_Akgo"
      },
      "execution_count": null,
      "outputs": []
    },
    {
      "cell_type": "code",
      "source": [
        "criterion = nn.NLLLoss()\n",
        "images, labels = next(iter(trainloader))\n",
        "images = images.view(images.shape[0], -1)\n",
        "\n",
        "logps = model(images) #log probabilities\n",
        "loss = criterion(logps, labels) #calculate the NLL loss"
      ],
      "metadata": {
        "id": "Dj3wc_RtAxvi"
      },
      "execution_count": null,
      "outputs": []
    }
  ]
}